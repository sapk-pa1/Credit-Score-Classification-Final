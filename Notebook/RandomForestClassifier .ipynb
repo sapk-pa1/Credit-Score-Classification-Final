{
 "cells": [
  {
   "cell_type": "code",
   "execution_count": 36,
   "id": "abc58a32",
   "metadata": {},
   "outputs": [],
   "source": [
    "import pandas as pd\n",
    "from sklearn.ensemble import RandomForestClassifier\n",
    "from sklearn.model_selection import train_test_split\n",
    "from sklearn.metrics import accuracy_score\n",
    "from sklearn.metrics import classification_report\n",
    "import seaborn as sns \n",
    "import matplotlib.pyplot as plt\n",
    "from sklearn.metrics import confusion_matrix"
   ]
  },
  {
   "cell_type": "code",
   "execution_count": 37,
   "id": "cecb64c8",
   "metadata": {},
   "outputs": [],
   "source": [
    "df = pd.read_csv('../cleaned_data/final_df.csv', index_col=0)\n",
    "pd.set_option('display.max_columns', None)\n"
   ]
  },
  {
   "cell_type": "code",
   "execution_count": 38,
   "id": "b6b4384e",
   "metadata": {},
   "outputs": [
    {
     "data": {
      "text/html": [
       "<div>\n",
       "<style scoped>\n",
       "    .dataframe tbody tr th:only-of-type {\n",
       "        vertical-align: middle;\n",
       "    }\n",
       "\n",
       "    .dataframe tbody tr th {\n",
       "        vertical-align: top;\n",
       "    }\n",
       "\n",
       "    .dataframe thead th {\n",
       "        text-align: right;\n",
       "    }\n",
       "</style>\n",
       "<table border=\"1\" class=\"dataframe\">\n",
       "  <thead>\n",
       "    <tr style=\"text-align: right;\">\n",
       "      <th></th>\n",
       "      <th>Customer_ID</th>\n",
       "      <th>Month</th>\n",
       "      <th>Age</th>\n",
       "      <th>Occupation</th>\n",
       "      <th>Annual_Income</th>\n",
       "      <th>Monthly_Inhand_Salary</th>\n",
       "      <th>Num_Bank_Accounts</th>\n",
       "      <th>Num_Credit_Card</th>\n",
       "      <th>Interest_Rate</th>\n",
       "      <th>Num_of_Loan</th>\n",
       "      <th>Type_of_Loan</th>\n",
       "      <th>Delay_from_due_date</th>\n",
       "      <th>Num_of_Delayed_Payment</th>\n",
       "      <th>Changed_Credit_Limit</th>\n",
       "      <th>Num_Credit_Inquiries</th>\n",
       "      <th>Credit_Mix</th>\n",
       "      <th>Outstanding_Debt</th>\n",
       "      <th>Credit_Utilization_Ratio</th>\n",
       "      <th>Credit_History_Age</th>\n",
       "      <th>Payment_of_Min_Amount</th>\n",
       "      <th>Total_EMI_per_month</th>\n",
       "      <th>Amount_invested_monthly</th>\n",
       "      <th>Payment_Behaviour</th>\n",
       "      <th>Monthly_Balance</th>\n",
       "      <th>Credit_Score</th>\n",
       "    </tr>\n",
       "  </thead>\n",
       "  <tbody>\n",
       "    <tr>\n",
       "      <th>0</th>\n",
       "      <td>3392</td>\n",
       "      <td>1</td>\n",
       "      <td>23.0</td>\n",
       "      <td>12</td>\n",
       "      <td>19114.12</td>\n",
       "      <td>1824.843333</td>\n",
       "      <td>3.0</td>\n",
       "      <td>4.0</td>\n",
       "      <td>3.0</td>\n",
       "      <td>4.0</td>\n",
       "      <td>128</td>\n",
       "      <td>3.0</td>\n",
       "      <td>7.0</td>\n",
       "      <td>11.27</td>\n",
       "      <td>4.0</td>\n",
       "      <td>1</td>\n",
       "      <td>809.98</td>\n",
       "      <td>26.822620</td>\n",
       "      <td>265.0</td>\n",
       "      <td>1</td>\n",
       "      <td>49.574949</td>\n",
       "      <td>80.415295</td>\n",
       "      <td>2</td>\n",
       "      <td>312.494089</td>\n",
       "      <td>0</td>\n",
       "    </tr>\n",
       "    <tr>\n",
       "      <th>1</th>\n",
       "      <td>3392</td>\n",
       "      <td>3</td>\n",
       "      <td>23.0</td>\n",
       "      <td>12</td>\n",
       "      <td>19114.12</td>\n",
       "      <td>1824.843333</td>\n",
       "      <td>3.0</td>\n",
       "      <td>4.0</td>\n",
       "      <td>3.0</td>\n",
       "      <td>4.0</td>\n",
       "      <td>128</td>\n",
       "      <td>3.0</td>\n",
       "      <td>7.0</td>\n",
       "      <td>11.27</td>\n",
       "      <td>4.0</td>\n",
       "      <td>1</td>\n",
       "      <td>809.98</td>\n",
       "      <td>28.609352</td>\n",
       "      <td>267.0</td>\n",
       "      <td>1</td>\n",
       "      <td>49.574949</td>\n",
       "      <td>81.699521</td>\n",
       "      <td>4</td>\n",
       "      <td>331.209863</td>\n",
       "      <td>0</td>\n",
       "    </tr>\n",
       "    <tr>\n",
       "      <th>2</th>\n",
       "      <td>3392</td>\n",
       "      <td>4</td>\n",
       "      <td>23.0</td>\n",
       "      <td>12</td>\n",
       "      <td>19114.12</td>\n",
       "      <td>1824.843333</td>\n",
       "      <td>3.0</td>\n",
       "      <td>4.0</td>\n",
       "      <td>3.0</td>\n",
       "      <td>4.0</td>\n",
       "      <td>128</td>\n",
       "      <td>5.0</td>\n",
       "      <td>4.0</td>\n",
       "      <td>6.27</td>\n",
       "      <td>4.0</td>\n",
       "      <td>1</td>\n",
       "      <td>809.98</td>\n",
       "      <td>31.377862</td>\n",
       "      <td>268.0</td>\n",
       "      <td>1</td>\n",
       "      <td>49.574949</td>\n",
       "      <td>199.458074</td>\n",
       "      <td>5</td>\n",
       "      <td>223.451310</td>\n",
       "      <td>0</td>\n",
       "    </tr>\n",
       "    <tr>\n",
       "      <th>3</th>\n",
       "      <td>3392</td>\n",
       "      <td>5</td>\n",
       "      <td>23.0</td>\n",
       "      <td>12</td>\n",
       "      <td>19114.12</td>\n",
       "      <td>1824.843333</td>\n",
       "      <td>3.0</td>\n",
       "      <td>4.0</td>\n",
       "      <td>3.0</td>\n",
       "      <td>4.0</td>\n",
       "      <td>128</td>\n",
       "      <td>6.0</td>\n",
       "      <td>4.0</td>\n",
       "      <td>11.27</td>\n",
       "      <td>4.0</td>\n",
       "      <td>1</td>\n",
       "      <td>809.98</td>\n",
       "      <td>24.797347</td>\n",
       "      <td>269.0</td>\n",
       "      <td>1</td>\n",
       "      <td>49.574949</td>\n",
       "      <td>41.420153</td>\n",
       "      <td>1</td>\n",
       "      <td>341.489231</td>\n",
       "      <td>0</td>\n",
       "    </tr>\n",
       "    <tr>\n",
       "      <th>4</th>\n",
       "      <td>3392</td>\n",
       "      <td>6</td>\n",
       "      <td>23.0</td>\n",
       "      <td>12</td>\n",
       "      <td>19114.12</td>\n",
       "      <td>1824.843333</td>\n",
       "      <td>3.0</td>\n",
       "      <td>4.0</td>\n",
       "      <td>3.0</td>\n",
       "      <td>4.0</td>\n",
       "      <td>128</td>\n",
       "      <td>8.0</td>\n",
       "      <td>4.0</td>\n",
       "      <td>9.27</td>\n",
       "      <td>4.0</td>\n",
       "      <td>1</td>\n",
       "      <td>809.98</td>\n",
       "      <td>27.262259</td>\n",
       "      <td>270.0</td>\n",
       "      <td>1</td>\n",
       "      <td>49.574949</td>\n",
       "      <td>62.430172</td>\n",
       "      <td>1</td>\n",
       "      <td>340.479212</td>\n",
       "      <td>0</td>\n",
       "    </tr>\n",
       "    <tr>\n",
       "      <th>...</th>\n",
       "      <td>...</td>\n",
       "      <td>...</td>\n",
       "      <td>...</td>\n",
       "      <td>...</td>\n",
       "      <td>...</td>\n",
       "      <td>...</td>\n",
       "      <td>...</td>\n",
       "      <td>...</td>\n",
       "      <td>...</td>\n",
       "      <td>...</td>\n",
       "      <td>...</td>\n",
       "      <td>...</td>\n",
       "      <td>...</td>\n",
       "      <td>...</td>\n",
       "      <td>...</td>\n",
       "      <td>...</td>\n",
       "      <td>...</td>\n",
       "      <td>...</td>\n",
       "      <td>...</td>\n",
       "      <td>...</td>\n",
       "      <td>...</td>\n",
       "      <td>...</td>\n",
       "      <td>...</td>\n",
       "      <td>...</td>\n",
       "      <td>...</td>\n",
       "    </tr>\n",
       "    <tr>\n",
       "      <th>79614</th>\n",
       "      <td>37932</td>\n",
       "      <td>4</td>\n",
       "      <td>25.0</td>\n",
       "      <td>9</td>\n",
       "      <td>39628.99</td>\n",
       "      <td>3359.415833</td>\n",
       "      <td>4.0</td>\n",
       "      <td>6.0</td>\n",
       "      <td>7.0</td>\n",
       "      <td>2.0</td>\n",
       "      <td>683</td>\n",
       "      <td>23.0</td>\n",
       "      <td>7.0</td>\n",
       "      <td>11.50</td>\n",
       "      <td>3.0</td>\n",
       "      <td>1</td>\n",
       "      <td>502.38</td>\n",
       "      <td>34.663572</td>\n",
       "      <td>378.0</td>\n",
       "      <td>1</td>\n",
       "      <td>35.104023</td>\n",
       "      <td>60.971333</td>\n",
       "      <td>0</td>\n",
       "      <td>479.866228</td>\n",
       "      <td>1</td>\n",
       "    </tr>\n",
       "    <tr>\n",
       "      <th>79615</th>\n",
       "      <td>37932</td>\n",
       "      <td>5</td>\n",
       "      <td>25.0</td>\n",
       "      <td>9</td>\n",
       "      <td>39628.99</td>\n",
       "      <td>3359.415833</td>\n",
       "      <td>4.0</td>\n",
       "      <td>6.0</td>\n",
       "      <td>7.0</td>\n",
       "      <td>2.0</td>\n",
       "      <td>683</td>\n",
       "      <td>18.0</td>\n",
       "      <td>7.0</td>\n",
       "      <td>11.50</td>\n",
       "      <td>3.0</td>\n",
       "      <td>1</td>\n",
       "      <td>502.38</td>\n",
       "      <td>40.565631</td>\n",
       "      <td>379.0</td>\n",
       "      <td>1</td>\n",
       "      <td>35.104023</td>\n",
       "      <td>54.185950</td>\n",
       "      <td>1</td>\n",
       "      <td>496.651610</td>\n",
       "      <td>1</td>\n",
       "    </tr>\n",
       "    <tr>\n",
       "      <th>79616</th>\n",
       "      <td>37932</td>\n",
       "      <td>6</td>\n",
       "      <td>25.0</td>\n",
       "      <td>9</td>\n",
       "      <td>39628.99</td>\n",
       "      <td>3359.415833</td>\n",
       "      <td>4.0</td>\n",
       "      <td>6.0</td>\n",
       "      <td>7.0</td>\n",
       "      <td>2.0</td>\n",
       "      <td>683</td>\n",
       "      <td>27.0</td>\n",
       "      <td>6.0</td>\n",
       "      <td>11.50</td>\n",
       "      <td>3.0</td>\n",
       "      <td>1</td>\n",
       "      <td>502.38</td>\n",
       "      <td>41.255522</td>\n",
       "      <td>380.0</td>\n",
       "      <td>1</td>\n",
       "      <td>35.104023</td>\n",
       "      <td>24.028477</td>\n",
       "      <td>0</td>\n",
       "      <td>516.809083</td>\n",
       "      <td>1</td>\n",
       "    </tr>\n",
       "    <tr>\n",
       "      <th>79617</th>\n",
       "      <td>37932</td>\n",
       "      <td>7</td>\n",
       "      <td>25.0</td>\n",
       "      <td>9</td>\n",
       "      <td>39628.99</td>\n",
       "      <td>3359.415833</td>\n",
       "      <td>4.0</td>\n",
       "      <td>6.0</td>\n",
       "      <td>7.0</td>\n",
       "      <td>2.0</td>\n",
       "      <td>683</td>\n",
       "      <td>20.0</td>\n",
       "      <td>6.0</td>\n",
       "      <td>11.50</td>\n",
       "      <td>3.0</td>\n",
       "      <td>1</td>\n",
       "      <td>502.38</td>\n",
       "      <td>33.638208</td>\n",
       "      <td>381.0</td>\n",
       "      <td>1</td>\n",
       "      <td>35.104023</td>\n",
       "      <td>251.672582</td>\n",
       "      <td>3</td>\n",
       "      <td>319.164979</td>\n",
       "      <td>2</td>\n",
       "    </tr>\n",
       "    <tr>\n",
       "      <th>79618</th>\n",
       "      <td>37932</td>\n",
       "      <td>8</td>\n",
       "      <td>25.0</td>\n",
       "      <td>9</td>\n",
       "      <td>39628.99</td>\n",
       "      <td>3359.415833</td>\n",
       "      <td>4.0</td>\n",
       "      <td>6.0</td>\n",
       "      <td>7.0</td>\n",
       "      <td>2.0</td>\n",
       "      <td>683</td>\n",
       "      <td>18.0</td>\n",
       "      <td>6.0</td>\n",
       "      <td>11.50</td>\n",
       "      <td>3.0</td>\n",
       "      <td>1</td>\n",
       "      <td>502.38</td>\n",
       "      <td>34.192463</td>\n",
       "      <td>382.0</td>\n",
       "      <td>1</td>\n",
       "      <td>35.104023</td>\n",
       "      <td>167.163865</td>\n",
       "      <td>5</td>\n",
       "      <td>393.673696</td>\n",
       "      <td>1</td>\n",
       "    </tr>\n",
       "  </tbody>\n",
       "</table>\n",
       "<p>79619 rows × 25 columns</p>\n",
       "</div>"
      ],
      "text/plain": [
       "       Customer_ID  Month   Age  Occupation  Annual_Income   \n",
       "0             3392      1  23.0          12       19114.12  \\\n",
       "1             3392      3  23.0          12       19114.12   \n",
       "2             3392      4  23.0          12       19114.12   \n",
       "3             3392      5  23.0          12       19114.12   \n",
       "4             3392      6  23.0          12       19114.12   \n",
       "...            ...    ...   ...         ...            ...   \n",
       "79614        37932      4  25.0           9       39628.99   \n",
       "79615        37932      5  25.0           9       39628.99   \n",
       "79616        37932      6  25.0           9       39628.99   \n",
       "79617        37932      7  25.0           9       39628.99   \n",
       "79618        37932      8  25.0           9       39628.99   \n",
       "\n",
       "       Monthly_Inhand_Salary  Num_Bank_Accounts  Num_Credit_Card   \n",
       "0                1824.843333                3.0              4.0  \\\n",
       "1                1824.843333                3.0              4.0   \n",
       "2                1824.843333                3.0              4.0   \n",
       "3                1824.843333                3.0              4.0   \n",
       "4                1824.843333                3.0              4.0   \n",
       "...                      ...                ...              ...   \n",
       "79614            3359.415833                4.0              6.0   \n",
       "79615            3359.415833                4.0              6.0   \n",
       "79616            3359.415833                4.0              6.0   \n",
       "79617            3359.415833                4.0              6.0   \n",
       "79618            3359.415833                4.0              6.0   \n",
       "\n",
       "       Interest_Rate  Num_of_Loan  Type_of_Loan  Delay_from_due_date   \n",
       "0                3.0          4.0           128                  3.0  \\\n",
       "1                3.0          4.0           128                  3.0   \n",
       "2                3.0          4.0           128                  5.0   \n",
       "3                3.0          4.0           128                  6.0   \n",
       "4                3.0          4.0           128                  8.0   \n",
       "...              ...          ...           ...                  ...   \n",
       "79614            7.0          2.0           683                 23.0   \n",
       "79615            7.0          2.0           683                 18.0   \n",
       "79616            7.0          2.0           683                 27.0   \n",
       "79617            7.0          2.0           683                 20.0   \n",
       "79618            7.0          2.0           683                 18.0   \n",
       "\n",
       "       Num_of_Delayed_Payment  Changed_Credit_Limit  Num_Credit_Inquiries   \n",
       "0                         7.0                 11.27                   4.0  \\\n",
       "1                         7.0                 11.27                   4.0   \n",
       "2                         4.0                  6.27                   4.0   \n",
       "3                         4.0                 11.27                   4.0   \n",
       "4                         4.0                  9.27                   4.0   \n",
       "...                       ...                   ...                   ...   \n",
       "79614                     7.0                 11.50                   3.0   \n",
       "79615                     7.0                 11.50                   3.0   \n",
       "79616                     6.0                 11.50                   3.0   \n",
       "79617                     6.0                 11.50                   3.0   \n",
       "79618                     6.0                 11.50                   3.0   \n",
       "\n",
       "       Credit_Mix  Outstanding_Debt  Credit_Utilization_Ratio   \n",
       "0               1            809.98                 26.822620  \\\n",
       "1               1            809.98                 28.609352   \n",
       "2               1            809.98                 31.377862   \n",
       "3               1            809.98                 24.797347   \n",
       "4               1            809.98                 27.262259   \n",
       "...           ...               ...                       ...   \n",
       "79614           1            502.38                 34.663572   \n",
       "79615           1            502.38                 40.565631   \n",
       "79616           1            502.38                 41.255522   \n",
       "79617           1            502.38                 33.638208   \n",
       "79618           1            502.38                 34.192463   \n",
       "\n",
       "       Credit_History_Age  Payment_of_Min_Amount  Total_EMI_per_month   \n",
       "0                   265.0                      1            49.574949  \\\n",
       "1                   267.0                      1            49.574949   \n",
       "2                   268.0                      1            49.574949   \n",
       "3                   269.0                      1            49.574949   \n",
       "4                   270.0                      1            49.574949   \n",
       "...                   ...                    ...                  ...   \n",
       "79614               378.0                      1            35.104023   \n",
       "79615               379.0                      1            35.104023   \n",
       "79616               380.0                      1            35.104023   \n",
       "79617               381.0                      1            35.104023   \n",
       "79618               382.0                      1            35.104023   \n",
       "\n",
       "       Amount_invested_monthly  Payment_Behaviour  Monthly_Balance   \n",
       "0                    80.415295                  2       312.494089  \\\n",
       "1                    81.699521                  4       331.209863   \n",
       "2                   199.458074                  5       223.451310   \n",
       "3                    41.420153                  1       341.489231   \n",
       "4                    62.430172                  1       340.479212   \n",
       "...                        ...                ...              ...   \n",
       "79614                60.971333                  0       479.866228   \n",
       "79615                54.185950                  1       496.651610   \n",
       "79616                24.028477                  0       516.809083   \n",
       "79617               251.672582                  3       319.164979   \n",
       "79618               167.163865                  5       393.673696   \n",
       "\n",
       "       Credit_Score  \n",
       "0                 0  \n",
       "1                 0  \n",
       "2                 0  \n",
       "3                 0  \n",
       "4                 0  \n",
       "...             ...  \n",
       "79614             1  \n",
       "79615             1  \n",
       "79616             1  \n",
       "79617             2  \n",
       "79618             1  \n",
       "\n",
       "[79619 rows x 25 columns]"
      ]
     },
     "execution_count": 38,
     "metadata": {},
     "output_type": "execute_result"
    }
   ],
   "source": [
    "df"
   ]
  },
  {
   "cell_type": "code",
   "execution_count": null,
   "id": "38d46608",
   "metadata": {},
   "outputs": [],
   "source": []
  },
  {
   "cell_type": "code",
   "execution_count": 39,
   "id": "8dbcaf7c",
   "metadata": {},
   "outputs": [],
   "source": [
    "X = df.drop('Credit_Score', axis=1)\n",
    "y = df['Credit_Score']"
   ]
  },
  {
   "cell_type": "code",
   "execution_count": 40,
   "id": "60ced265",
   "metadata": {},
   "outputs": [],
   "source": [
    "X_train, X_test, y_train, y_test = train_test_split(X, y, test_size=0.3, random_state=0)\n"
   ]
  },
  {
   "cell_type": "code",
   "execution_count": 41,
   "id": "44cc3163",
   "metadata": {},
   "outputs": [],
   "source": [
    "rf = RandomForestClassifier(n_estimators=100, random_state=0)\n"
   ]
  },
  {
   "cell_type": "code",
   "execution_count": 42,
   "id": "ec35bf9e",
   "metadata": {},
   "outputs": [
    {
     "data": {
      "text/html": [
       "<style>#sk-container-id-4 {color: black;background-color: white;}#sk-container-id-4 pre{padding: 0;}#sk-container-id-4 div.sk-toggleable {background-color: white;}#sk-container-id-4 label.sk-toggleable__label {cursor: pointer;display: block;width: 100%;margin-bottom: 0;padding: 0.3em;box-sizing: border-box;text-align: center;}#sk-container-id-4 label.sk-toggleable__label-arrow:before {content: \"▸\";float: left;margin-right: 0.25em;color: #696969;}#sk-container-id-4 label.sk-toggleable__label-arrow:hover:before {color: black;}#sk-container-id-4 div.sk-estimator:hover label.sk-toggleable__label-arrow:before {color: black;}#sk-container-id-4 div.sk-toggleable__content {max-height: 0;max-width: 0;overflow: hidden;text-align: left;background-color: #f0f8ff;}#sk-container-id-4 div.sk-toggleable__content pre {margin: 0.2em;color: black;border-radius: 0.25em;background-color: #f0f8ff;}#sk-container-id-4 input.sk-toggleable__control:checked~div.sk-toggleable__content {max-height: 200px;max-width: 100%;overflow: auto;}#sk-container-id-4 input.sk-toggleable__control:checked~label.sk-toggleable__label-arrow:before {content: \"▾\";}#sk-container-id-4 div.sk-estimator input.sk-toggleable__control:checked~label.sk-toggleable__label {background-color: #d4ebff;}#sk-container-id-4 div.sk-label input.sk-toggleable__control:checked~label.sk-toggleable__label {background-color: #d4ebff;}#sk-container-id-4 input.sk-hidden--visually {border: 0;clip: rect(1px 1px 1px 1px);clip: rect(1px, 1px, 1px, 1px);height: 1px;margin: -1px;overflow: hidden;padding: 0;position: absolute;width: 1px;}#sk-container-id-4 div.sk-estimator {font-family: monospace;background-color: #f0f8ff;border: 1px dotted black;border-radius: 0.25em;box-sizing: border-box;margin-bottom: 0.5em;}#sk-container-id-4 div.sk-estimator:hover {background-color: #d4ebff;}#sk-container-id-4 div.sk-parallel-item::after {content: \"\";width: 100%;border-bottom: 1px solid gray;flex-grow: 1;}#sk-container-id-4 div.sk-label:hover label.sk-toggleable__label {background-color: #d4ebff;}#sk-container-id-4 div.sk-serial::before {content: \"\";position: absolute;border-left: 1px solid gray;box-sizing: border-box;top: 0;bottom: 0;left: 50%;z-index: 0;}#sk-container-id-4 div.sk-serial {display: flex;flex-direction: column;align-items: center;background-color: white;padding-right: 0.2em;padding-left: 0.2em;position: relative;}#sk-container-id-4 div.sk-item {position: relative;z-index: 1;}#sk-container-id-4 div.sk-parallel {display: flex;align-items: stretch;justify-content: center;background-color: white;position: relative;}#sk-container-id-4 div.sk-item::before, #sk-container-id-4 div.sk-parallel-item::before {content: \"\";position: absolute;border-left: 1px solid gray;box-sizing: border-box;top: 0;bottom: 0;left: 50%;z-index: -1;}#sk-container-id-4 div.sk-parallel-item {display: flex;flex-direction: column;z-index: 1;position: relative;background-color: white;}#sk-container-id-4 div.sk-parallel-item:first-child::after {align-self: flex-end;width: 50%;}#sk-container-id-4 div.sk-parallel-item:last-child::after {align-self: flex-start;width: 50%;}#sk-container-id-4 div.sk-parallel-item:only-child::after {width: 0;}#sk-container-id-4 div.sk-dashed-wrapped {border: 1px dashed gray;margin: 0 0.4em 0.5em 0.4em;box-sizing: border-box;padding-bottom: 0.4em;background-color: white;}#sk-container-id-4 div.sk-label label {font-family: monospace;font-weight: bold;display: inline-block;line-height: 1.2em;}#sk-container-id-4 div.sk-label-container {text-align: center;}#sk-container-id-4 div.sk-container {/* jupyter's `normalize.less` sets `[hidden] { display: none; }` but bootstrap.min.css set `[hidden] { display: none !important; }` so we also need the `!important` here to be able to override the default hidden behavior on the sphinx rendered scikit-learn.org. See: https://github.com/scikit-learn/scikit-learn/issues/21755 */display: inline-block !important;position: relative;}#sk-container-id-4 div.sk-text-repr-fallback {display: none;}</style><div id=\"sk-container-id-4\" class=\"sk-top-container\"><div class=\"sk-text-repr-fallback\"><pre>RandomForestClassifier(random_state=0)</pre><b>In a Jupyter environment, please rerun this cell to show the HTML representation or trust the notebook. <br />On GitHub, the HTML representation is unable to render, please try loading this page with nbviewer.org.</b></div><div class=\"sk-container\" hidden><div class=\"sk-item\"><div class=\"sk-estimator sk-toggleable\"><input class=\"sk-toggleable__control sk-hidden--visually\" id=\"sk-estimator-id-4\" type=\"checkbox\" checked><label for=\"sk-estimator-id-4\" class=\"sk-toggleable__label sk-toggleable__label-arrow\">RandomForestClassifier</label><div class=\"sk-toggleable__content\"><pre>RandomForestClassifier(random_state=0)</pre></div></div></div></div></div>"
      ],
      "text/plain": [
       "RandomForestClassifier(random_state=0)"
      ]
     },
     "execution_count": 42,
     "metadata": {},
     "output_type": "execute_result"
    }
   ],
   "source": [
    "rf.fit(X_train, y_train)"
   ]
  },
  {
   "cell_type": "code",
   "execution_count": 43,
   "id": "b8d0ae89",
   "metadata": {},
   "outputs": [],
   "source": [
    "# Make predictions on the test data\n",
    "y_pred = rf.predict(X_test)\n"
   ]
  },
  {
   "cell_type": "code",
   "execution_count": 44,
   "id": "9a71eb76",
   "metadata": {},
   "outputs": [
    {
     "name": "stdout",
     "output_type": "stream",
     "text": [
      "              precision    recall  f1-score   support\n",
      "\n",
      "           0       0.79      0.78      0.79      3853\n",
      "           1       0.81      0.85      0.83      7409\n",
      "           2       0.85      0.82      0.83     12624\n",
      "\n",
      "    accuracy                           0.83     23886\n",
      "   macro avg       0.82      0.82      0.82     23886\n",
      "weighted avg       0.83      0.83      0.83     23886\n",
      "\n"
     ]
    }
   ],
   "source": [
    "report = classification_report(y_test, y_pred)\n",
    "print(report )"
   ]
  },
  {
   "cell_type": "code",
   "execution_count": 45,
   "id": "d8cca591",
   "metadata": {},
   "outputs": [
    {
     "data": {
      "image/png": "[encoded data removed]",
      "text/plain": [
       "<Figure size 640x480 with 2 Axes>"
      ]
     },
     "metadata": {},
     "output_type": "display_data"
    }
   ],
   "source": [
    "# Assuming y_true contains the true labels and y_pred contains the predicted labels\n",
    "cm = confusion_matrix(y_test, y_pred)\n",
    "\n",
    "# Plot the confusion matrix as a heatmap\n",
    "sns.heatmap(cm, annot=True, cmap='Blues', fmt='g')\n",
    "plt.xlabel('Predicted')\n",
    "plt.ylabel('True')\n",
    "plt.show()"
   ]
  },
  {
   "cell_type": "code",
   "execution_count": 46,
   "id": "72f42635",
   "metadata": {},
   "outputs": [],
   "source": [
    "# So lets try to improve the accuracy by trying to balance the datasets "
   ]
  },
  {
   "cell_type": "code",
   "execution_count": 47,
   "id": "f2d88cae",
   "metadata": {},
   "outputs": [],
   "source": [
    "df_copy = df.copy() "
   ]
  },
  {
   "cell_type": "code",
   "execution_count": 48,
   "id": "773c51da",
   "metadata": {},
   "outputs": [
    {
     "data": {
      "text/plain": [
       "Credit_Score\n",
       "2    41808\n",
       "1    24915\n",
       "0    12896\n",
       "Name: count, dtype: int64"
      ]
     },
     "execution_count": 48,
     "metadata": {},
     "output_type": "execute_result"
    }
   ],
   "source": [
    "df_copy['Credit_Score'].value_counts() "
   ]
  },
  {
   "cell_type": "code",
   "execution_count": 49,
   "id": "246f7e17",
   "metadata": {},
   "outputs": [],
   "source": [
    "from sklearn.utils import resample\n",
    "#create two different dataframe of majority and minority class \n",
    "df_majority = df_copy[(df_copy['Credit_Score']==2)] \n",
    "df_minority = df_copy[(df_copy['Credit_Score']==1)] \n",
    "df_minority2 = df_copy[(df_copy['Credit_Score']==0)] \n",
    "# upsample minority class\n",
    "df_minority_upsampled = resample(df_minority, \n",
    "                                 replace=True,    # sample with replacement\n",
    "                                 n_samples= 41808, # to match majority class\n",
    "                                 random_state=0)  # reproducible results\n",
    "df_minority_upsampled2 = resample(df_minority2, \n",
    "                                 replace=True,    # sample with replacement\n",
    "                                 n_samples= 41808, # to match majority class\n",
    "                                 random_state=0)  # reproducible results\n",
    "# Combine majority class with upsampled minority class\n",
    "df_upsampled = pd.concat([df_minority_upsampled, df_minority_upsampled2, df_majority])"
   ]
  },
  {
   "cell_type": "code",
   "execution_count": 50,
   "id": "b78c6c02",
   "metadata": {},
   "outputs": [],
   "source": [
    "df_upsampled = df_upsampled.drop(df.columns[0], axis=1)"
   ]
  },
  {
   "cell_type": "code",
   "execution_count": 51,
   "id": "c849d6c4",
   "metadata": {},
   "outputs": [],
   "source": [
    "df_upsampled.to_csv('../cleaned_data/upsampled_final_df.csv')"
   ]
  },
  {
   "cell_type": "code",
   "execution_count": 52,
   "id": "02607c9d",
   "metadata": {},
   "outputs": [
    {
     "data": {
      "text/plain": [
       "Credit_Score\n",
       "1    41808\n",
       "0    41808\n",
       "2    41808\n",
       "Name: count, dtype: int64"
      ]
     },
     "execution_count": 52,
     "metadata": {},
     "output_type": "execute_result"
    },
    {
     "data": {
      "image/png": "[encoded data removed]",
      "text/plain": [
       "<Figure size 640x480 with 1 Axes>"
      ]
     },
     "metadata": {},
     "output_type": "display_data"
    }
   ],
   "source": [
    "#Counting 1 and 0 Value in Response column\n",
    "sns.countplot(x = 'Credit_Score', data = df_upsampled)\n",
    "df_upsampled['Credit_Score'].value_counts()"
   ]
  },
  {
   "cell_type": "code",
   "execution_count": 53,
   "id": "d5ce6805",
   "metadata": {},
   "outputs": [],
   "source": [
    "df2= df_upsampled.copy()"
   ]
  },
  {
   "cell_type": "code",
   "execution_count": 54,
   "id": "5d6f3b15",
   "metadata": {},
   "outputs": [],
   "source": [
    "X = df2.drop('Credit_Score', axis=1)\n",
    "y = df2['Credit_Score']"
   ]
  },
  {
   "cell_type": "code",
   "execution_count": 55,
   "id": "fce3ac1f",
   "metadata": {},
   "outputs": [],
   "source": [
    "X_train, X_test, y_train, y_test = train_test_split(X, y, test_size=0.3, random_state=0)\n"
   ]
  },
  {
   "cell_type": "code",
   "execution_count": 56,
   "id": "e21bbd56",
   "metadata": {},
   "outputs": [],
   "source": [
    "rf = RandomForestClassifier(n_estimators=100, random_state=0)\n"
   ]
  },
  {
   "cell_type": "code",
   "execution_count": null,
   "id": "bf171026",
   "metadata": {},
   "outputs": [],
   "source": [
    "rf.fit(X_train, y_train)\n",
    "\n",
    "\n"
   ]
  },
  {
   "cell_type": "code",
   "execution_count": null,
   "id": "0e2632d0",
   "metadata": {},
   "outputs": [],
   "source": [
    "# Make predictions on the test data\n",
    "y_pred = rf.predict(X_test)\n"
   ]
  },
  {
   "cell_type": "code",
   "execution_count": null,
   "id": "45314c24",
   "metadata": {},
   "outputs": [],
   "source": [
    "report = classification_report(y_test, y_pred)\n",
    "print(report )"
   ]
  },
  {
   "cell_type": "code",
   "execution_count": null,
   "id": "0a94a684",
   "metadata": {},
   "outputs": [],
   "source": [
    "# Assuming y_true contains the true labels and y_pred contains the predicted labels\n",
    "cm = confusion_matrix(y_test, y_pred)\n",
    "\n",
    "# Plot the confusion matrix as a heatmap\n",
    "sns.heatmap(cm, annot=True, cmap='Blues', fmt='g')\n",
    "plt.xlabel('Predicted')\n",
    "plt.ylabel('True')\n",
    "plt.show()"
   ]
  },
  {
   "cell_type": "markdown",
   "id": "efffcdaa",
   "metadata": {},
   "source": [
    "Hence we were able to increase the Accuracy of the Random Forest Classifier from 82% to 91% . Also the Overall classification report is also improved. "
   ]
  },
  {
   "cell_type": "code",
   "execution_count": null,
   "id": "07d6e2de",
   "metadata": {},
   "outputs": [],
   "source": [
    "# From the Hyperparamter tunining the best parameter was found "
   ]
  },
  {
   "cell_type": "code",
   "execution_count": null,
   "id": "d2570568",
   "metadata": {},
   "outputs": [],
   "source": [
    "# best_param = {'n_estimators': 200, 'min_samples_split': 2, 'min_samples_leaf': 1, 'max_features': 'sqrt', 'max_depth': 40}"
   ]
  },
  {
   "cell_type": "code",
   "execution_count": null,
   "id": "8eaa2736",
   "metadata": {},
   "outputs": [],
   "source": [
    "best_param= {'n_estimators': 250, 'min_samples_split': 2, 'min_samples_leaf': 1, 'max_features': 'sqrt', 'max_depth': None}\n"
   ]
  },
  {
   "cell_type": "code",
   "execution_count": null,
   "id": "cac9d16e",
   "metadata": {},
   "outputs": [],
   "source": [
    "best_model =  RandomForestClassifier(**best_param)"
   ]
  },
  {
   "cell_type": "code",
   "execution_count": null,
   "id": "369239e7",
   "metadata": {},
   "outputs": [],
   "source": [
    "best_model.fit(X_train, y_train)"
   ]
  },
  {
   "cell_type": "markdown",
   "id": "00059ac5",
   "metadata": {},
   "source": [
    "Accuracy: 0.9131232061230998\n"
   ]
  },
  {
   "cell_type": "code",
   "execution_count": null,
   "id": "263830ae",
   "metadata": {},
   "outputs": [],
   "source": [
    "# Make predictions on the test data\n",
    "y_pred = best_model.predict(X_test)\n",
    "\n",
    "# Calculate the accuracy score of the model\n",
    "accuracy = accuracy_score(y_test, y_pred)\n",
    "print('Accuracy:', accuracy)"
   ]
  },
  {
   "cell_type": "code",
   "execution_count": null,
   "id": "19029584",
   "metadata": {
    "scrolled": true
   },
   "outputs": [],
   "source": [
    "report = classification_report(y_test, y_pred)\n",
    "print(report )"
   ]
  },
  {
   "cell_type": "code",
   "execution_count": null,
   "id": "261c7381",
   "metadata": {},
   "outputs": [],
   "source": [
    "# Assuming y_true contains the true labels and y_pred contains the predicted labels\n",
    "cm = confusion_matrix(y_test, y_pred)\n",
    "\n",
    "# Plot the confusion matrix as a heatmap\n",
    "sns.heatmap(cm, annot=True, cmap='Blues', fmt='g')\n",
    "plt.xlabel('Predicted')\n",
    "plt.ylabel('True')\n",
    "plt.show()"
   ]
  },
  {
   "cell_type": "code",
   "execution_count": null,
   "id": "8ffebd4c",
   "metadata": {},
   "outputs": [],
   "source": [
    "import pickle\n",
    "\n",
    "# Define the path and filename for the .pkl file\n",
    "filename = '../models/rf_model.pkl'\n",
    "\n",
    "# Open a file in binary mode and save the model using the pickle module\n",
    "with open(filename, 'wb') as file:\n",
    "    pickle.dump(best_model, file)"
   ]
  },
  {
   "cell_type": "code",
   "execution_count": null,
   "id": "1e92784a",
   "metadata": {},
   "outputs": [],
   "source": []
  },
  {
   "cell_type": "code",
   "execution_count": null,
   "id": "09491277",
   "metadata": {},
   "outputs": [],
   "source": []
  }
 ],
 "metadata": {
  "kernelspec": {
   "display_name": "Python 3 (ipykernel)",
   "language": "python",
   "name": "python3"
  },
  "language_info": {
   "codemirror_mode": {
    "name": "ipython",
    "version": 3
   },
   "file_extension": ".py",
   "mimetype": "text/x-python",
   "name": "python",
   "nbconvert_exporter": "python",
   "pygments_lexer": "ipython3",
   "version": "3.11.3"
  }
 },
 "nbformat": 4,
 "nbformat_minor": 5
}
